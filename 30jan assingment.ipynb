{
 "cells": [
  {
   "cell_type": "code",
   "execution_count": 1,
   "id": "4b55132a-6bae-4b63-865e-2c7121d1cc3f",
   "metadata": {},
   "outputs": [],
   "source": [
    "#Q1 write the program to accept the percentage from the user and display the grade according to the following criteria\n",
    "# Mark                Grade\n",
    "# >90                  A\n",
    "# >80 and <=90         B\n",
    "# >=60 and <=80        C\n",
    "# below 60             D"
   ]
  },
  {
   "cell_type": "code",
   "execution_count": 2,
   "id": "4ce1e405-bc17-40d0-bde3-329258b2be25",
   "metadata": {},
   "outputs": [
    {
     "name": "stdin",
     "output_type": "stream",
     "text": [
      "enter the percentage number :  70\n"
     ]
    },
    {
     "name": "stdout",
     "output_type": "stream",
     "text": [
      "C\n"
     ]
    }
   ],
   "source": [
    "percentage_number = int(input(\"enter the percentage number : \"))\n",
    "if percentage_number > 90:\n",
    "    print(\"A\")\n",
    "elif percentage_number > 80 and percentage_number <= 90:\n",
    "    print(\"B\")\n",
    "elif percentage_number >= 60 and percentage_number <= 80:\n",
    "    print(\"C\")\n",
    "else:\n",
    "    print(\"D\")"
   ]
  },
  {
   "cell_type": "code",
   "execution_count": 3,
   "id": "e533a9e8-4677-4453-bc6e-278b3872ccbc",
   "metadata": {},
   "outputs": [],
   "source": [
    "#Q2  Write a program to accept the cost price of a bike and display the road tax to be paid according to the  criteria:\n",
    "# Tax     \t    Cost Price(in Rs)\n",
    "# 15\t         > 100000\n",
    "# 10\t        >50000 and <=100000\n",
    "# 5%\t          <= 50000"
   ]
  },
  {
   "cell_type": "code",
   "execution_count": 11,
   "id": "40589f57-396f-4e26-a7ba-375c4e3d86b7",
   "metadata": {},
   "outputs": [
    {
     "name": "stdin",
     "output_type": "stream",
     "text": [
      "enter the cost :  70000\n"
     ]
    },
    {
     "name": "stdout",
     "output_type": "stream",
     "text": [
      "Tax : 10% \n"
     ]
    }
   ],
   "source": [
    "cost = int(input(\"enter the cost : \"))\n",
    "if cost > 100000:\n",
    "    print(\"Tax : 15% \")\n",
    "elif cost > 50000 and cost <= 100000:\n",
    "    print(\"Tax : 10% \")\n",
    "else:\n",
    "    print(\"Tax : 5% \")"
   ]
  },
  {
   "cell_type": "code",
   "execution_count": 5,
   "id": "8d960578-32d6-4449-9596-ee55a79c16e3",
   "metadata": {},
   "outputs": [],
   "source": [
    "#Q3 check how many times a given number can be devided by 3 before it is less than or equal to 10?"
   ]
  },
  {
   "cell_type": "code",
   "execution_count": 16,
   "id": "c1409da2-b1a9-4c93-a860-105b0896c849",
   "metadata": {
    "tags": []
   },
   "outputs": [
    {
     "name": "stdin",
     "output_type": "stream",
     "text": [
      "Enter a number:  99\n"
     ]
    },
    {
     "name": "stdout",
     "output_type": "stream",
     "text": [
      "The number can be divided by 3 :  3  : times before it is less than or equal to 10.\n"
     ]
    }
   ],
   "source": [
    "num = int(input(\"Enter a number: \"))\n",
    "count = 0\n",
    "while num > 10:\n",
    "    num /= 3\n",
    "    count += 1\n",
    "print(\"The number can be divided by 3 : \", count, \" : times before it is less than or equal to 10.\")"
   ]
  },
  {
   "cell_type": "code",
   "execution_count": 12,
   "id": "97aa5930-3db0-4204-b174-783b7318ee5d",
   "metadata": {},
   "outputs": [],
   "source": [
    "#Q4 Accept any city from the user and display monuments of that city.\n",
    "# City       Monument\n",
    "# Delhi      Red Fort\n",
    "# Agra       Taj Mahal\n",
    "# jaipur     Jai Mahal"
   ]
  },
  {
   "cell_type": "code",
   "execution_count": 15,
   "id": "f81891a5-5cd0-4706-81c6-a733720b6cfb",
   "metadata": {},
   "outputs": [
    {
     "name": "stdin",
     "output_type": "stream",
     "text": [
      "Enter a city name:  Jaipur\n"
     ]
    },
    {
     "name": "stdout",
     "output_type": "stream",
     "text": [
      "The monument of Jaipur is Jai Mahal.\n"
     ]
    }
   ],
   "source": [
    "city = input(\"Enter a city name: \")\n",
    "\n",
    "if city.lower() == \"delhi\":\n",
    "    print(\"The monument of Delhi is Red Fort.\")\n",
    "elif city.lower() == \"agra\":\n",
    "    print(\"The monument of Agra is Taj Mahal.\")\n",
    "elif city.lower() == \"jaipur\":\n",
    "    print(\"The monument of Jaipur is Jai Mahal.\")\n",
    "else:\n",
    "    print(\"Sorry, we don't have information about the monuments of that city.\")"
   ]
  },
  {
   "cell_type": "code",
   "execution_count": 17,
   "id": "ce930a60-575b-4b6e-bd19-ddb54ba97413",
   "metadata": {},
   "outputs": [],
   "source": [
    "# Q5 why and when to use while loop in python give a detail description with example?"
   ]
  },
  {
   "cell_type": "code",
   "execution_count": 18,
   "id": "dcf2cfa8-4b29-426f-a58d-597f2e7d45d6",
   "metadata": {},
   "outputs": [
    {
     "name": "stdout",
     "output_type": "stream",
     "text": [
      "1\n",
      "2\n",
      "3\n",
      "4\n",
      "5\n"
     ]
    }
   ],
   "source": [
    "# A while loop is used in Python when you need to execute a block of code repeatedly as long as a certain condition remains true.\n",
    "# The loop will continue to execute until the condition becomes false. It's important to make sure the condition will eventually become false,\n",
    "# otherwise, the loop will continue to run indefinitely, causing what is called an \"infinite loop\".\n",
    "\n",
    "# Here's an example of a simple while loop that prints the numbers 1 to 5:\n",
    "\n",
    "num = 1\n",
    "while num <= 5:\n",
    "    print(num)\n",
    "    num += 1"
   ]
  },
  {
   "cell_type": "code",
   "execution_count": 19,
   "id": "32249ff5-d24c-437f-96a2-a07117c456be",
   "metadata": {},
   "outputs": [],
   "source": [
    "#Q6 used nested while loop to print 3 different pattern?\n"
   ]
  },
  {
   "cell_type": "code",
   "execution_count": 23,
   "id": "6dc990d1-e75b-4a30-9b3c-78289052f7e2",
   "metadata": {},
   "outputs": [
    {
     "name": "stdout",
     "output_type": "stream",
     "text": [
      "*****\n",
      "*****\n",
      "*****\n",
      "*****\n",
      "*****\n"
     ]
    }
   ],
   "source": [
    "# Yes, you can use nested while loops to print 3 different patterns. Here are three examples:\n",
    "\n",
    "# Pattern 1 - Square\n",
    "\n",
    "i = 1\n",
    "while i <= 5:\n",
    "    j = 1\n",
    "    while j <= 5:\n",
    "        print(\"*\", end=\"\")\n",
    "        j += 1\n",
    "    print()\n",
    "    i += 1"
   ]
  },
  {
   "cell_type": "code",
   "execution_count": 24,
   "id": "f7649982-c8d1-4cc6-818d-dfbaf13bda92",
   "metadata": {},
   "outputs": [
    {
     "name": "stdout",
     "output_type": "stream",
     "text": [
      "*\n",
      "**\n",
      "***\n",
      "****\n",
      "*****\n"
     ]
    }
   ],
   "source": [
    "# Pattern 2 - Right Triangle:\n",
    "\n",
    "i = 1\n",
    "while i <= 5:\n",
    "    j = 1\n",
    "    while j <= i:\n",
    "        print(\"*\", end=\"\")\n",
    "        j += 1\n",
    "    print()\n",
    "    i += 1"
   ]
  },
  {
   "cell_type": "code",
   "execution_count": 26,
   "id": "452fe2f8-633c-466f-ade9-f07b5e8802b0",
   "metadata": {},
   "outputs": [
    {
     "name": "stdout",
     "output_type": "stream",
     "text": [
      "   *\n",
      "  ***\n",
      " *****\n",
      "*******\n",
      " *****\n",
      "  ***\n",
      "   *\n"
     ]
    }
   ],
   "source": [
    "# Pattern 3 - Diamond:\n",
    "\n",
    "\n",
    "n = 4\n",
    "i = 1\n",
    "while i <= n:\n",
    "    j = 1\n",
    "    while j <= (n-i):\n",
    "        print(\" \", end=\"\")\n",
    "        j += 1\n",
    "    k = 1\n",
    "    while k <= (2*i-1):\n",
    "        print(\"*\", end=\"\")\n",
    "        k += 1\n",
    "    print()\n",
    "    i += 1\n",
    "\n",
    "i = n-1\n",
    "while i >= 1:\n",
    "    j = 1\n",
    "    while j <= (n-i):\n",
    "        print(\" \", end=\"\")\n",
    "        j += 1\n",
    "    k = 1\n",
    "    while k <= (2*i-1):\n",
    "        print(\"*\", end=\"\")\n",
    "        k += 1\n",
    "    print()\n",
    "    i -= 1"
   ]
  },
  {
   "cell_type": "code",
   "execution_count": 27,
   "id": "c291f8f1-82ea-4c50-96f6-02040353a6fc",
   "metadata": {},
   "outputs": [],
   "source": [
    "#Q7 Reverse a while loop to display numbers from 10 to 1?"
   ]
  },
  {
   "cell_type": "code",
   "execution_count": 28,
   "id": "b2655624-cc30-4393-8d91-148e0ecddf50",
   "metadata": {},
   "outputs": [
    {
     "name": "stdout",
     "output_type": "stream",
     "text": [
      "10\n",
      "9\n",
      "8\n",
      "7\n",
      "6\n",
      "5\n",
      "4\n",
      "3\n",
      "2\n",
      "1\n"
     ]
    }
   ],
   "source": [
    "num = 10\n",
    "while num >= 1:\n",
    "    print(num)\n",
    "    num -= 1\n"
   ]
  },
  {
   "cell_type": "code",
   "execution_count": null,
   "id": "a29826d7-6d13-41cd-9875-87480968b714",
   "metadata": {},
   "outputs": [],
   "source": []
  }
 ],
 "metadata": {
  "kernelspec": {
   "display_name": "Python 3 (ipykernel)",
   "language": "python",
   "name": "python3"
  },
  "language_info": {
   "codemirror_mode": {
    "name": "ipython",
    "version": 3
   },
   "file_extension": ".py",
   "mimetype": "text/x-python",
   "name": "python",
   "nbconvert_exporter": "python",
   "pygments_lexer": "ipython3",
   "version": "3.10.8"
  }
 },
 "nbformat": 4,
 "nbformat_minor": 5
}
